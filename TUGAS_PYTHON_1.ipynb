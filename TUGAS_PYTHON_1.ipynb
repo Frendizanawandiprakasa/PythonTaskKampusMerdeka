{
  "nbformat": 4,
  "nbformat_minor": 0,
  "metadata": {
    "colab": {
      "provenance": []
    },
    "kernelspec": {
      "name": "python3",
      "display_name": "Python 3"
    },
    "language_info": {
      "name": "python"
    }
  },
  "cells": [
    {
      "cell_type": "markdown",
      "source": [
        "TUGAS 1\n"
      ],
      "metadata": {
        "id": "GMfW2GQN0HRh"
      }
    },
    {
      "cell_type": "code",
      "source": [
        "def hitung_nilai_akhir(data):\n",
        "\n",
        "  ID, nilai_harian1, nilai_harian2, nilai_harian3, nilai_UTS, nilai_UAS = data\n",
        "  rata_nilai_harian = (nilai_harian1 + nilai_harian2 + nilai_harian3) / 3\n",
        "  nilai_akhir = 0.3 * rata_nilai_harian + 0.3 * nilai_UTS + 0.4 * nilai_UAS\n",
        "\n",
        "  if nilai_akhir >= 80:\n",
        "        grade = \"A\"\n",
        "  elif nilai_akhir >= 75:\n",
        "        grade = \"B+\"\n",
        "  elif nilai_akhir >= 70:\n",
        "        grade = \"B\"\n",
        "  elif nilai_akhir >= 65:\n",
        "        grade = \"C+\"\n",
        "  elif nilai_akhir >= 60:\n",
        "        grade = \"C\"\n",
        "  elif nilai_akhir >= 55:\n",
        "        grade = \"D\"\n",
        "  else:\n",
        "        grade = \"E\"\n",
        "\n",
        "  hasil = f\"Mahasiswa dengan ID = {ID} mendapat nilai mata kuliah dengan grade {grade} dengan score nilai akhir = {nilai_akhir}\"\n",
        "\n",
        "  return hasil\n",
        ""
      ],
      "metadata": {
        "id": "sA-F30I_0MAV"
      },
      "execution_count": 12,
      "outputs": []
    },
    {
      "cell_type": "code",
      "source": [
        "data_mahasiswa1 = [\n",
        "    [20103125, 90, 90, 95, 100, 91],\n",
        "]\n",
        "data_mahasiswa2 = [\n",
        "    [20103149, 90, 90, 95, 90, 91],\n",
        "]\n",
        "data_mahasiswa3 = [\n",
        "    [20103126, 90, 90, 95, 88, 91],\n",
        "]\n",
        "data_mahasiswa4 = [\n",
        "    [20103150, 90, 90, 95, 20, 91],\n",
        "]\n",
        "data_mahasiswa5 = [\n",
        "    [20103160, 90, 90, 95, 0, 91],\n",
        "]"
      ],
      "metadata": {
        "id": "3W5bt-Z92CL0"
      },
      "execution_count": 56,
      "outputs": []
    },
    {
      "cell_type": "code",
      "source": [
        "for data in data_mahasiswa1:\n",
        "    hasil_perhitungan = hitung_nilai_akhir(data)\n",
        "    print(hasil_perhitungan)\n",
        "for data in data_mahasiswa2:\n",
        "    hasil_perhitungan = hitung_nilai_akhir(data)\n",
        "    print(hasil_perhitungan)\n",
        "for data in data_mahasiswa3:\n",
        "    hasil_perhitungan = hitung_nilai_akhir(data)\n",
        "    print(hasil_perhitungan)\n",
        "for data in data_mahasiswa4:\n",
        "    hasil_perhitungan = hitung_nilai_akhir(data)\n",
        "    print(hasil_perhitungan)\n",
        "for data in data_mahasiswa5:\n",
        "    hasil_perhitungan = hitung_nilai_akhir(data)\n",
        "    print(hasil_perhitungan)"
      ],
      "metadata": {
        "colab": {
          "base_uri": "https://localhost:8080/"
        },
        "id": "M5hB3dotAOj_",
        "outputId": "51ca4b53-fa48-436d-b5db-6cb415971e39"
      },
      "execution_count": 59,
      "outputs": [
        {
          "output_type": "stream",
          "name": "stdout",
          "text": [
            "Mahasiswa dengan ID = 20103125 mendapat nilai mata kuliah dengan grade A dengan score nilai akhir = 93.9\n",
            "Mahasiswa dengan ID = 20103149 mendapat nilai mata kuliah dengan grade A dengan score nilai akhir = 90.9\n",
            "Mahasiswa dengan ID = 20103126 mendapat nilai mata kuliah dengan grade A dengan score nilai akhir = 90.3\n",
            "Mahasiswa dengan ID = 20103150 mendapat nilai mata kuliah dengan grade C+ dengan score nilai akhir = 69.9\n",
            "Mahasiswa dengan ID = 20103160 mendapat nilai mata kuliah dengan grade C dengan score nilai akhir = 63.9\n"
          ]
        }
      ]
    }
  ]
}