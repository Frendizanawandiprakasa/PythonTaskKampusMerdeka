{
  "nbformat": 4,
  "nbformat_minor": 0,
  "metadata": {
    "colab": {
      "provenance": []
    },
    "kernelspec": {
      "name": "python3",
      "display_name": "Python 3"
    },
    "language_info": {
      "name": "python"
    }
  },
  "cells": [
    {
      "cell_type": "markdown",
      "source": [
        "Simple Calculator\n"
      ],
      "metadata": {
        "id": "EicwYhIidnjg"
      }
    },
    {
      "cell_type": "code",
      "source": [
        "def tambah(angka1, angka2):\n",
        "    hasil = angka1\n",
        "    for i in range(angka2):\n",
        "        hasil += 1\n",
        "    return hasil\n",
        "\n",
        "def kurang(angka1, angka2):\n",
        "    hasil = angka1\n",
        "    for i in range(angka2):\n",
        "        hasil -= 1\n",
        "    return hasil\n",
        "\n",
        "def kali(angka1, angka2):\n",
        "    hasil = 0\n",
        "    for i in range(angka2):\n",
        "        hasil = tambah(hasil, angka1)\n",
        "    return hasil\n",
        "\n",
        "def bagi(angka1, angka2):\n",
        "    hasil = angka1\n",
        "    count = 0\n",
        "    while hasil >= angka2:\n",
        "        hasil = kurang(hasil, angka2)\n",
        "        count = tambah(count, 1)\n",
        "    return count\n",
        "\n",
        "angka1 = int(input(\"Masukkan angka pertama: \"))\n",
        "angka2 = int(input(\"Masukkan angka kedua: \"))\n",
        "operator = input(\"Masukkan operator (+, -, *, /): \")\n",
        "\n",
        "if operator == '+':\n",
        "    hasil = tambah(angka1, angka2)\n",
        "    print(f'Hasil: {hasil}')\n",
        "elif operator == '-':\n",
        "    hasil = kurang(angka1, angka2)\n",
        "    print(f'Hasil: {hasil}')\n",
        "elif operator == '*':\n",
        "    hasil = kali(angka1, angka2)\n",
        "    print(f'Hasil: {hasil}')\n",
        "elif operator == '/':\n",
        "    if angka2 == 0:\n",
        "        print(\"Error: Division by zero\")\n",
        "    else:\n",
        "        hasil = bagi(angka1, angka2)\n",
        "        print(f'Hasil: {hasil}')\n",
        "else:\n",
        "    print(\"Operator tidak valid\")"
      ],
      "metadata": {
        "id": "eq0rnAoKdnNO",
        "colab": {
          "base_uri": "https://localhost:8080/"
        },
        "outputId": "c6272002-316f-4946-ae27-f4d3946f9849"
      },
      "execution_count": null,
      "outputs": [
        {
          "output_type": "stream",
          "name": "stdout",
          "text": [
            "Masukkan angka pertama: 5\n",
            "Masukkan angka kedua: 3\n",
            "Masukkan operator (+, -, *, /): -\n",
            "Hasil: 2\n"
          ]
        }
      ]
    },
    {
      "cell_type": "markdown",
      "source": [
        "Simple program List"
      ],
      "metadata": {
        "id": "eKypQ4zXdiIA"
      }
    },
    {
      "cell_type": "code",
      "execution_count": null,
      "metadata": {
        "colab": {
          "base_uri": "https://localhost:8080/"
        },
        "id": "h87z2JQ7dVTf",
        "outputId": "c2f9add9-4f3d-49b5-f85b-db93399f6e4e"
      },
      "outputs": [
        {
          "output_type": "stream",
          "name": "stdout",
          "text": [
            "Masukkan list angka (pisahkan dengan koma): 3,7,4,5,9,8,1\n",
            "   element_list  total  rata-rata  ganjil genap  maksimum  minimum  bil_prima\n",
            "0             3     37   5.285714       1     0         9        1          1\n",
            "1             7     37   5.285714       1     0         9        1          1\n",
            "2             4     37   5.285714       0     1         9        1          0\n",
            "3             5     37   5.285714       1     0         9        1          1\n",
            "4             9     37   5.285714       1     0         9        1          0\n",
            "5             8     37   5.285714       0     1         9        1          0\n",
            "6             1     37   5.285714       1     0         9        1          0\n"
          ]
        }
      ],
      "source": [
        "import pandas as pd\n",
        "\n",
        "def calculate_sum(lst):\n",
        "    return sum(lst)\n",
        "\n",
        "def calculate_average(lst):\n",
        "    return sum(lst) / len(lst)\n",
        "\n",
        "def is_even_or_odd(number):\n",
        "    if number % 2 == 0:\n",
        "        return '1'\n",
        "    else:\n",
        "        return '0'\n",
        "\n",
        "def find_maximum(lst):\n",
        "    return max(lst)\n",
        "\n",
        "def find_minimum(lst):\n",
        "    return min(lst)\n",
        "\n",
        "def is_prime(number):\n",
        "    if number <= 1:\n",
        "        return 0\n",
        "    if number <= 3:\n",
        "        return 1\n",
        "    if number % 2 == 0 or number % 3 == 0:\n",
        "        return 0\n",
        "    i = 5\n",
        "    while i * i <= number:\n",
        "        if number % i == 0 or number % (i + 2) == 0:\n",
        "            return 0\n",
        "        i += 6\n",
        "    return 1\n",
        "\n",
        "input_list = [int(x) for x in input(\"Masukkan list angka (pisahkan dengan koma): \").split(',')]\n",
        "\n",
        "total_sum = calculate_sum(input_list)\n",
        "average = calculate_average(input_list)\n",
        "even_odd = [is_even_or_odd(x) for x in input_list]\n",
        "maximum = find_maximum(input_list)\n",
        "minimum = find_minimum(input_list)\n",
        "prime = [is_prime(x) for x in input_list]\n",
        "\n",
        "data = {\n",
        "    'element_list': input_list,\n",
        "    'total': total_sum,\n",
        "    'rata-rata': average,\n",
        "    'ganjil': [int(x == '0') for x in even_odd],\n",
        "    'genap': even_odd,\n",
        "    'maksimum': maximum,\n",
        "    'minimum': minimum,\n",
        "    'bil_prima': prime\n",
        "}\n",
        "\n",
        "df = pd.DataFrame(data)\n",
        "\n",
        "print(df)\n"
      ]
    }
  ]
}